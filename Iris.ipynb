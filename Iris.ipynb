{
 "cells": [
  {
   "cell_type": "code",
   "execution_count": 1,
   "metadata": {},
   "outputs": [
    {
     "name": "stdout",
     "output_type": "stream",
     "text": [
      "accuracy for 1 is:  0.9736842105263158\n",
      "accuracy for 2 is:  0.9736842105263158\n",
      "accuracy for 3 is:  0.9736842105263158\n",
      "accuracy for 4 is:  0.9473684210526315\n",
      "accuracy for 5 is:  0.9736842105263158\n",
      "accuracy for 6 is:  0.9736842105263158\n",
      "accuracy for 7 is:  1.0\n",
      "accuracy for 8 is:  0.9736842105263158\n",
      "accuracy for 9 is:  1.0\n",
      "accuracy for 10 is:  1.0\n",
      "accuracy for 11 is:  1.0\n",
      "accuracy for 12 is:  1.0\n",
      "accuracy for 13 is:  1.0\n",
      "accuracy for 14 is:  0.9736842105263158\n",
      "accuracy for 15 is:  0.9736842105263158\n",
      "accuracy for 16 is:  0.9736842105263158\n",
      "accuracy for 17 is:  0.9736842105263158\n",
      "accuracy for 18 is:  0.9736842105263158\n",
      "accuracy for 19 is:  0.9736842105263158\n",
      "accuracy for 20 is:  0.9210526315789473\n"
     ]
    },
    {
     "data": {
      "image/png": "[encoded data removed]",
      "text/plain": [
       "<matplotlib.figure.Figure at 0x1a19ef6b38>"
      ]
     },
     "metadata": {},
     "output_type": "display_data"
    }
   ],
   "source": [
    "import numpy as np\n",
    "import pandas as pd\n",
    "import seaborn as sns\n",
    "import matplotlib.pyplot as plt\n",
    "from sklearn.model_selection import train_test_split\n",
    "from sklearn.metrics import accuracy_score\n",
    "\n",
    "from sklearn.neighbors import KNeighborsClassifier\n",
    "from sklearn import metrics\n",
    "import pickle\n",
    "\n",
    "iris_data = pd.read_csv('iris_data.txt', sep = ',', header = None)\n",
    "iris_data.columns = ['sep_len', 'sep_wid', 'pet_len', 'pet_wid', 'class']\n",
    "\n",
    "train_data, test_data = train_test_split(iris_data, test_size=0.25, random_state = 100)\n",
    "\n",
    "train_data_X = train_data.drop(['class'],axis=1)\n",
    "train_data_y = train_data['class']\n",
    "\n",
    "test_data_X = test_data.drop(['class'],axis=1)\n",
    "test_data_y = test_data['class']\n",
    "\n",
    "\n",
    "#prediction = knn_model.predict(test_data_X)\n",
    "#print(accuracy_score(prediction,test_data_y))\n",
    "accuracy_scores = [0]*20\n",
    "for i in range(1, 21):\n",
    "    knn_model = KNeighborsClassifier(i)\n",
    "    knn_model.fit(train_data_X, train_data_y)\n",
    "\n",
    "    prediction = knn_model.predict(test_data_X)\n",
    "    acc_score = metrics.accuracy_score(prediction, test_data_y)\n",
    "    print(\"accuracy for {} is: \".format(i), acc_score)\n",
    "    accuracy_scores[i-1] = acc_score\n",
    "plt.plot(range(20), accuracy_scores)\n",
    "plt.show()\n",
    "\n",
    "#choose 10 as num of neighbors    \n",
    "knn_model = KNeighborsClassifier(10)\n",
    "knn_model.fit(train_data_X, train_data_y)\n",
    "\n",
    "pickle.dump(knn_model, open('knn_model.pkl','wb'))\n",
    "\n",
    "\n"
   ]
  },
  {
   "cell_type": "code",
   "execution_count": null,
   "metadata": {
    "collapsed": true
   },
   "outputs": [],
   "source": []
  }
 ],
 "metadata": {
  "kernelspec": {
   "display_name": "Python 3",
   "language": "python",
   "name": "python3"
  },
  "language_info": {
   "codemirror_mode": {
    "name": "ipython",
    "version": 3
   },
   "file_extension": ".py",
   "mimetype": "text/x-python",
   "name": "python",
   "nbconvert_exporter": "python",
   "pygments_lexer": "ipython3",
   "version": "3.6.2"
  }
 },
 "nbformat": 4,
 "nbformat_minor": 2
}
